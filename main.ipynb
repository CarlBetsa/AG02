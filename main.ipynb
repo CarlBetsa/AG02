{
 "cells": [
  {
   "cell_type": "markdown",
   "metadata": {},
   "source": [
    "### AG-002\n",
    "\n",
    "<img src='images/penguin.png' width= 500px>\n",
    "\n",
    "#### Nome da Dupla  e Mátricula\n",
    "\n",
    "Nome: Lucas Cinquetti Moreira; Carl Betsa Costa\n",
    "\n",
    "Matrícula: 330; 59"
   ]
  },
  {
   "cell_type": "markdown",
   "metadata": {},
   "source": [
    "#### Bibliotecas"
   ]
  },
  {
   "cell_type": "code",
   "execution_count": null,
   "metadata": {},
   "outputs": [],
   "source": [
    "### Análise de dados\n",
    "import pandas as pd\n",
    "import numpy as np\n",
    "import matplotlib.pyplot as plt\n",
    "import seaborn as sns\n",
    "\n",
    "### Criação do modelo\n",
    "from sklearn.tree import DecisionTreeClassifier\n",
    "from sklearn.ensemble import RandomForestClassifier\n",
    "from sklearn.neighbors import KNeighborsClassifier\n",
    "from sklearn.model_selection import train_test_split \n",
    "\n",
    "### Avaliação de métricas\n",
    "from sklearn.metrics import accuracy_score\n",
    "\n",
    "data = pd.read_csv(\"palmerpenguins.csv\")\n",
    "data.head() # imprimir 5 primeiros registros"
   ]
  },
  {
   "cell_type": "markdown",
   "metadata": {},
   "source": [
    "#### Convertendo valores do Dataset para números inteiros"
   ]
  },
  {
   "cell_type": "code",
   "execution_count": null,
   "metadata": {},
   "outputs": [],
   "source": [
    "# Mapeamento para as colunas\n",
    "island_mapping = {'Biscoe': 0, 'Dream': 1, 'Torgersen': 2}\n",
    "sex_mapping = {'FEMALE': 0, 'MALE': 1}\n",
    "species_mapping = {'Adelie': 0, 'Chinstrap': 1, 'Gentoo': 2}\n",
    "\n",
    "# Aplicando os mapeamentos\n",
    "data['island'] = data['island'].replace(island_mapping)\n",
    "data['sex'] = data['sex'].replace(sex_mapping)\n",
    "data['species'] = data['species'].replace(species_mapping)\n",
    "\n",
    "data.head()"
   ]
  },
  {
   "cell_type": "markdown",
   "metadata": {},
   "source": [
    "#### Reordenando Colunas"
   ]
  },
  {
   "cell_type": "code",
   "execution_count": null,
   "metadata": {},
   "outputs": [],
   "source": [
    "nova_ordem_colunas = ['island', 'sex', 'culmen_length_mm', 'culmen_depth_mm', 'flipper_length_mm', 'body_mass_g', 'species']\n",
    "\n",
    "data2 = data.reindex(columns= nova_ordem_colunas)\n",
    "\n",
    "data2.head()"
   ]
  },
  {
   "cell_type": "markdown",
   "metadata": {},
   "source": [
    "#### Separando o alvo dos dados e chamando train_test_split"
   ]
  },
  {
   "cell_type": "code",
   "execution_count": null,
   "metadata": {},
   "outputs": [],
   "source": [
    "# Separando dados\n",
    "## Variáveis preditoras\n",
    "X = data.loc[:,['island', 'sex', 'culmen_length_mm', 'culmen_depth_mm', 'flipper_length_mm', 'body_mass_g']]\n",
    "X = np.array(X)\n",
    "\n",
    "## Variável alvo\n",
    "y = data[\"species\"]\n",
    "y = np.array(y)\n",
    "\n",
    "## Separando treino e teste\n",
    "X_train, X_test, y_train, y_test = train_test_split(X, y, test_size=0.2, random_state = 0)\n",
    "print(f\"Tamanho X de treino: {X_train.shape}\")\n",
    "print(f\"Tamanho X de teste: {X_test.shape}\")\n",
    "print(f\"Tamanho y de treino: {y_train.shape}\")\n",
    "print(f\"Tamanho y de teste: {y_test.shape}\")\n"
   ]
  },
  {
   "cell_type": "markdown",
   "metadata": {},
   "source": [
    "#### Instanciando, treinando e prevendo com os modelos Knn e Decision Tree"
   ]
  },
  {
   "cell_type": "code",
   "execution_count": null,
   "metadata": {},
   "outputs": [],
   "source": [
    "# instanciando modelos\n",
    "tree = DecisionTreeClassifier()\n",
    "knn = KNeighborsClassifier()\n",
    "\n",
    "\n",
    "# Treinando modelos\n",
    "tree.fit(X_train, y_train)\n",
    "knn.fit(X_train, y_train)\n",
    "\n",
    "# Prevendo valores\n",
    "tree_predict = tree.predict(X_test)\n",
    "knn_predict = knn.predict(X_test)\n",
    "\n",
    "# Avaliação\n",
    "tree_score = accuracy_score(y_test, tree_predict)\n",
    "knn_score = accuracy_score(y_test, knn_predict)\n",
    "\n",
    "print(f\"Pontuação Decision Tree:{tree_score}\")\n",
    "print(f\"Pontuação KNN:{knn_score}\")"
   ]
  },
  {
   "cell_type": "code",
   "execution_count": null,
   "metadata": {},
   "outputs": [],
   "source": [
    "# Plotando resultados\n",
    "plt.figure(figsize = (8,4))\n",
    "plt.title(\"Models accuracy\")\n",
    "plt.bar(x = [0,1,2], height = [tree_score, knn_score], color = \"black\")\n",
    "plt.xticks([0,1,2], [\"Tree\",\"RF\", \"KNN\"])\n",
    "plt.ylim(0.5,1.1)\n",
    "plt.ylabel(\"Accuracy\")\n",
    "plt.xlabel(\"Models\")\n",
    "plt.grid()\n",
    "plt.show()"
   ]
  },
  {
   "cell_type": "markdown",
   "metadata": {},
   "source": [
    "#### Input de teste (Pedir pro usuário as informações de um penguin para que ele seja classificado)"
   ]
  },
  {
   "cell_type": "code",
   "execution_count": null,
   "metadata": {},
   "outputs": [],
   "source": [
    "# Função para permitir ao usuário inserir dados\n",
    "def classify_penguin():\n",
    "    print(\"Insira os dados do pinguim para classificação:\")\n",
    "    island = int(input(\"Ilha (0: Biscoe, 1: Dream, 2: Torgersen): \"))\n",
    "    sex = int(input(\"Sexo (0: FEMALE, 1: MALE): \"))\n",
    "    culmen_length_mm = float(input(\"Comprimento do culmen (mm): \"))\n",
    "    culmen_depth_mm = float(input(\"Profundidade do culmen (mm): \"))\n",
    "    flipper_length_mm = float(input(\"Comprimento da nadadeira (mm): \"))\n",
    "    body_mass_g = float(input(\"Massa corporal (g): \"))\n",
    "\n",
    "    # Criar um DataFrame com os dados inseridos\n",
    "    input_data = pd.DataFrame({\n",
    "        'island': [island],\n",
    "        'sex': [sex],\n",
    "        'culmen_length_mm': [culmen_length_mm],\n",
    "        'culmen_depth_mm': [culmen_depth_mm],\n",
    "        'flipper_length_mm': [flipper_length_mm],\n",
    "        'body_mass_g': [body_mass_g]\n",
    "    })\n",
    "\n",
    "    # Fazer previsões com os modelos treinados\n",
    "    tree_prediction = tree.predict(input_data)[0]\n",
    "    knn_prediction = knn.predict(input_data)[0]\n",
    "\n",
    "    # Mapeamento inverso para a espécie\n",
    "    species_reverse_mapping = {0: 'Adelie', 1: 'Chinstrap', 2: 'Gentoo'}\n",
    "    \n",
    "    print(f\"Previsão Decision Tree: {species_reverse_mapping[tree_prediction]}\")\n",
    "    print(f\"Previsão KNN: {species_reverse_mapping[knn_prediction]}\")\n",
    "\n",
    "# Chamar a função para inserir dados e classificar o pinguim\n",
    "classify_penguin()"
   ]
  }
 ],
 "metadata": {
  "kernelspec": {
   "display_name": "Python 3",
   "language": "python",
   "name": "python3"
  },
  "language_info": {
   "codemirror_mode": {
    "name": "ipython",
    "version": 3
   },
   "file_extension": ".py",
   "mimetype": "text/x-python",
   "name": "python",
   "nbconvert_exporter": "python",
   "pygments_lexer": "ipython3",
   "version": "3.12.2"
  }
 },
 "nbformat": 4,
 "nbformat_minor": 2
}
